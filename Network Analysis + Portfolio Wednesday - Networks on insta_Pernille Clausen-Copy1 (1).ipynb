{
 "cells": [
  {
   "cell_type": "markdown",
   "metadata": {},
   "source": [
    "# Network analysis exercise + portfolio_wednesday"
   ]
  },
  {
   "cell_type": "code",
   "execution_count": 2,
   "metadata": {},
   "outputs": [
    {
     "name": "stdout",
     "output_type": "stream",
     "text": [
      "Requirement already up-to-date: bokeh in c:\\users\\au483836\\appdata\\local\\continuum\\anaconda3\\lib\\site-packages (1.4.0)\n",
      "Requirement already satisfied, skipping upgrade: python-dateutil>=2.1 in c:\\users\\au483836\\appdata\\local\\continuum\\anaconda3\\lib\\site-packages (from bokeh) (2.8.0)\n",
      "Requirement already satisfied, skipping upgrade: numpy>=1.7.1 in c:\\users\\au483836\\appdata\\local\\continuum\\anaconda3\\lib\\site-packages (from bokeh) (1.16.5)\n",
      "Requirement already satisfied, skipping upgrade: tornado>=4.3 in c:\\users\\au483836\\appdata\\local\\continuum\\anaconda3\\lib\\site-packages (from bokeh) (6.0.3)\n",
      "Requirement already satisfied, skipping upgrade: six>=1.5.2 in c:\\users\\au483836\\appdata\\local\\continuum\\anaconda3\\lib\\site-packages (from bokeh) (1.12.0)\n",
      "Requirement already satisfied, skipping upgrade: packaging>=16.8 in c:\\users\\au483836\\appdata\\local\\continuum\\anaconda3\\lib\\site-packages (from bokeh) (19.2)\n",
      "Requirement already satisfied, skipping upgrade: pillow>=4.0 in c:\\users\\au483836\\appdata\\local\\continuum\\anaconda3\\lib\\site-packages (from bokeh) (6.2.0)\n",
      "Requirement already satisfied, skipping upgrade: PyYAML>=3.10 in c:\\users\\au483836\\appdata\\local\\continuum\\anaconda3\\lib\\site-packages (from bokeh) (5.1.2)\n",
      "Requirement already satisfied, skipping upgrade: Jinja2>=2.7 in c:\\users\\au483836\\appdata\\local\\continuum\\anaconda3\\lib\\site-packages (from bokeh) (2.10.3)\n",
      "Requirement already satisfied, skipping upgrade: pyparsing>=2.0.2 in c:\\users\\au483836\\appdata\\local\\continuum\\anaconda3\\lib\\site-packages (from packaging>=16.8->bokeh) (2.4.2)\n",
      "Requirement already satisfied, skipping upgrade: MarkupSafe>=0.23 in c:\\users\\au483836\\appdata\\local\\continuum\\anaconda3\\lib\\site-packages (from Jinja2>=2.7->bokeh) (1.1.1)\n"
     ]
    }
   ],
   "source": [
    "import numpy as np\n",
    "import pandas as pd\n",
    "import matplotlib.pyplot as plt\n",
    "import seaborn as sb\n",
    "import itertools # Python's amazing iteration & combination library\n",
    "\n",
    "# For visualization\n",
    "!pip install -U bokeh\n",
    "!pip install -q holoviews"
   ]
  },
  {
   "cell_type": "code",
   "execution_count": 3,
   "metadata": {},
   "outputs": [
    {
     "data": {
      "text/plain": [
       "[('A', 'B'), ('B', 'C'), ('A', 'C'), ('C', 'D')]"
      ]
     },
     "execution_count": 3,
     "metadata": {},
     "output_type": "execute_result"
    }
   ],
   "source": [
    "edge_list = [\n",
    "    ('A', 'B'),\n",
    "    ('B', 'C'),\n",
    "    ('A', 'C'),\n",
    "    ('C', 'D')\n",
    "]\n",
    "\n",
    "edge_list"
   ]
  },
  {
   "cell_type": "code",
   "execution_count": 4,
   "metadata": {},
   "outputs": [
    {
     "name": "stdout",
     "output_type": "stream",
     "text": [
      "[[0 1 1]\n",
      " [1 0 1]\n",
      " [1 1 0]]\n"
     ]
    }
   ],
   "source": [
    "adj_matrix = np.array([[0, 1, 1],\n",
    "                       [1, 0, 1],\n",
    "                       [1, 1, 0]])\n",
    "\n",
    "print(adj_matrix)"
   ]
  },
  {
   "cell_type": "code",
   "execution_count": 5,
   "metadata": {},
   "outputs": [
    {
     "name": "stdout",
     "output_type": "stream",
     "text": [
      "  (0, 1)\t1\n",
      "  (0, 2)\t1\n",
      "  (1, 0)\t1\n",
      "  (1, 2)\t1\n",
      "  (2, 0)\t1\n",
      "  (2, 1)\t1\n"
     ]
    }
   ],
   "source": [
    "from scipy.sparse import csr_matrix # for working with sparse matrices\n",
    "\n",
    "sparse_matrix = csr_matrix(adj_matrix)\n",
    "\n",
    "print(sparse_matrix)"
   ]
  },
  {
   "cell_type": "code",
   "execution_count": 6,
   "metadata": {},
   "outputs": [],
   "source": [
    "#node_list <- tibble(id = 1:5, \n",
    "#                    name = c(\"Jesper\", \"Pernille\", \"Jacob\", \"Dorte\", \"Donald\"),\n",
    "#                    gender = c(\"M\", \"F\", \"M\", \"F\", \"M\"),\n",
    "#                    group = c(\"A\", \"B\", \"B\", \"A\", \"C\"))\n",
    "#node_list"
   ]
  },
  {
   "cell_type": "markdown",
   "metadata": {},
   "source": [
    "## Creating a graph object "
   ]
  },
  {
   "cell_type": "code",
   "execution_count": 7,
   "metadata": {},
   "outputs": [],
   "source": [
    "# Import the library\n",
    "import networkx as nx"
   ]
  },
  {
   "cell_type": "code",
   "execution_count": 8,
   "metadata": {},
   "outputs": [
    {
     "name": "stdout",
     "output_type": "stream",
     "text": [
      "[0, 1, 2] [(0, 1), (0, 2), (1, 2)]\n"
     ]
    }
   ],
   "source": [
    "# We can create a network graph G directly from the adjacency matrix.\n",
    "G = nx.from_numpy_array(adj_matrix)\n",
    "print(G.nodes(), G.edges())"
   ]
  },
  {
   "cell_type": "code",
   "execution_count": 9,
   "metadata": {},
   "outputs": [
    {
     "name": "stdout",
     "output_type": "stream",
     "text": [
      "['A', 'B', 'C', 'D'] [('A', 'B'), ('A', 'C'), ('B', 'C'), ('C', 'D')]\n"
     ]
    }
   ],
   "source": [
    "# We can also directly load an edgelist instead\n",
    "G = nx.from_edgelist(edge_list)\n",
    "print(G.nodes(), G.edges())"
   ]
  },
  {
   "cell_type": "code",
   "execution_count": 10,
   "metadata": {},
   "outputs": [
    {
     "name": "stdout",
     "output_type": "stream",
     "text": [
      "[] []\n"
     ]
    }
   ],
   "source": [
    "# We can also create an own graph\n",
    "G = nx.Graph() # create an empty graph with no nodes and no edges\n",
    "print(G.nodes(), G.edges())"
   ]
  },
  {
   "cell_type": "code",
   "execution_count": 11,
   "metadata": {},
   "outputs": [
    {
     "name": "stdout",
     "output_type": "stream",
     "text": [
      "[1, 2, 3, 4, 5] [(1, 2), (1, 3), (1, 4), (2, 4), (2, 3), (3, 5), (4, 5)]\n"
     ]
    }
   ],
   "source": [
    "G.add_nodes_from([1, 2, 3, 4, 5]) # add a list of nodes\n",
    "G.add_edges_from([(1,2), (1,3), (4,5), (5,3), (4,2), (3,2), (1,4)]) # add a list of edges\n",
    "print(G.nodes(), G.edges())"
   ]
  },
  {
   "cell_type": "code",
   "execution_count": 12,
   "metadata": {},
   "outputs": [
    {
     "name": "stderr",
     "output_type": "stream",
     "text": [
      "C:\\Users\\au483836\\AppData\\Local\\Continuum\\anaconda3\\lib\\site-packages\\networkx\\drawing\\nx_pylab.py:579: MatplotlibDeprecationWarning: \n",
      "The iterable function was deprecated in Matplotlib 3.1 and will be removed in 3.3. Use np.iterable instead.\n",
      "  if not cb.iterable(width):\n"
     ]
    },
    {
     "data": {
      "image/png": "[encoded data removed]",
      "text/plain": [
       "<Figure size 432x288 with 1 Axes>"
      ]
     },
     "metadata": {},
     "output_type": "display_data"
    }
   ],
   "source": [
    "nx.draw(G, with_labels=True)"
   ]
  },
  {
   "cell_type": "markdown",
   "metadata": {},
   "source": [
    "# Exercise"
   ]
  },
  {
   "cell_type": "code",
   "execution_count": 13,
   "metadata": {},
   "outputs": [
    {
     "name": "stdout",
     "output_type": "stream",
     "text": [
      "[] []\n"
     ]
    }
   ],
   "source": [
    "G1 = nx.Graph() \n",
    "print(G1.nodes(), G1.edges())"
   ]
  },
  {
   "cell_type": "markdown",
   "metadata": {},
   "source": [
    "### With numbers"
   ]
  },
  {
   "cell_type": "code",
   "execution_count": 14,
   "metadata": {},
   "outputs": [
    {
     "name": "stdout",
     "output_type": "stream",
     "text": [
      "[1, 2, 3, 4, 5] [(1, 2), (1, 3), (1, 4), (3, 4), (4, 5)]\n"
     ]
    }
   ],
   "source": [
    "G1.add_nodes_from([1, 2, 3, 4, 5]) # add a list of nodes\n",
    "G1.add_edges_from([(1,2), (1,3), (1,4), (4,3), (4,5)]) # add a list of edges\n",
    "print(G1.nodes(), G1.edges())"
   ]
  },
  {
   "cell_type": "code",
   "execution_count": 21,
   "metadata": {},
   "outputs": [
    {
     "data": {
      "image/png": "[encoded data removed]",
      "text/plain": [
       "<Figure size 432x288 with 1 Axes>"
      ]
     },
     "metadata": {},
     "output_type": "display_data"
    }
   ],
   "source": [
    "nx.draw(G1, with_labels=True)\n"
   ]
  },
  {
   "cell_type": "markdown",
   "metadata": {},
   "source": [
    "## With letters"
   ]
  },
  {
   "cell_type": "code",
   "execution_count": 17,
   "metadata": {},
   "outputs": [
    {
     "name": "stdout",
     "output_type": "stream",
     "text": [
      "[] []\n"
     ]
    }
   ],
   "source": [
    "G2 = nx.Graph() \n",
    "print(G2.nodes(), G2.edges())"
   ]
  },
  {
   "cell_type": "code",
   "execution_count": 18,
   "metadata": {},
   "outputs": [
    {
     "name": "stdout",
     "output_type": "stream",
     "text": [
      "['A', 'B', 'C', 'D', 'E'] [('A', 'C'), ('A', 'E'), ('A', 'B'), ('B', 'E'), ('B', 'D')]\n"
     ]
    }
   ],
   "source": [
    "G2.add_nodes_from([\"A\", \"B\", \"C\", \"D\", \"E\"]) # add a list of nodes\n",
    "G2.add_edges_from([(\"A\",\"C\"), (\"A\",\"E\"), (\"A\",\"B\"), (\"B\",\"E\"), (\"B\",\"D\")]) # add a list of edges\n",
    "print(G2.nodes(), G2.edges())"
   ]
  },
  {
   "cell_type": "code",
   "execution_count": 22,
   "metadata": {},
   "outputs": [
    {
     "data": {
      "image/png": "[encoded data removed]",
      "text/plain": [
       "<Figure size 432x288 with 1 Axes>"
      ]
     },
     "metadata": {},
     "output_type": "display_data"
    }
   ],
   "source": [
    "nx.draw(G2, with_labels=True)"
   ]
  },
  {
   "cell_type": "markdown",
   "metadata": {},
   "source": [
    "# Portfolio exercise"
   ]
  },
  {
   "cell_type": "code",
   "execution_count": null,
   "metadata": {},
   "outputs": [],
   "source": []
  }
 ],
 "metadata": {
  "kernelspec": {
   "display_name": "Python 3",
   "language": "python",
   "name": "python3"
  },
  "language_info": {
   "codemirror_mode": {
    "name": "ipython",
    "version": 3
   },
   "file_extension": ".py",
   "mimetype": "text/x-python",
   "name": "python",
   "nbconvert_exporter": "python",
   "pygments_lexer": "ipython3",
   "version": "3.7.4"
  }
 },
 "nbformat": 4,
 "nbformat_minor": 2
}
